{
 "cells": [
  {
   "cell_type": "code",
   "execution_count": 2,
   "id": "ab4d77b2-530f-4ee7-b025-d471f71ec800",
   "metadata": {},
   "outputs": [],
   "source": [
    "def add_contact(name, phone_number):\n",
    "    with open(\"contacts.txt\", \"a\") as file:\n",
    "        file.write(f\"{name},{phone_number}\\n\")\n",
    "    print(f\"Contact {name} added successfully.\")"
   ]
  },
  {
   "cell_type": "code",
   "execution_count": 4,
   "id": "1a66480e-9da6-490c-bb91-1838064c3b6f",
   "metadata": {},
   "outputs": [],
   "source": [
    "# Function to delete a contact by name\n",
    "def delete_contact(name):\n",
    "    found = False\n",
    "    with open(\"contacts.txt\", \"r\") as file:\n",
    "        lines = file.readlines()\n",
    "\n",
    "    # Open the file in write mode to overwrite the contacts file\n",
    "    with open(\"contacts.txt\", \"w\") as file:\n",
    "        for line in lines:\n",
    "            contact_name, _ = line.strip().split(',')\n",
    "            if contact_name != name:\n",
    "                file.write(line)\n",
    "            else:\n",
    "                found = True\n",
    "\n",
    "    if found:\n",
    "        print(f\"Contact {name} deleted successfully.\")\n",
    "    else:\n",
    "        print(f\"Contact {name} not found.\")"
   ]
  },
  {
   "cell_type": "code",
   "execution_count": 6,
   "id": "dd080647-e7c7-486e-b826-da2f53b1fb5e",
   "metadata": {},
   "outputs": [],
   "source": [
    "# Function to view all contacts\n",
    "def view_contacts():\n",
    "    try:\n",
    "        with open(\"contacts.txt\", \"r\") as file:\n",
    "            contacts = file.readlines()\n",
    "\n",
    "        if contacts:\n",
    "            print(\"Contact List:\")\n",
    "            for contact in contacts:\n",
    "                name, phone_number = contact.strip().split(',')\n",
    "                print(f\"Name: {name}, Phone Number: {phone_number}\")\n",
    "        else:\n",
    "            print(\"No contacts found.\")\n",
    "    except FileNotFoundError:\n",
    "        print(\"No contacts found. The contact book is empty.\")"
   ]
  },
  {
   "cell_type": "code",
   "execution_count": 8,
   "id": "11730dec-65fe-4b65-8cbe-577619bf74b9",
   "metadata": {},
   "outputs": [
    {
     "name": "stdout",
     "output_type": "stream",
     "text": [
      "\n",
      "Contact Book Menu:\n",
      "1. Add Contact\n",
      "2. Delete Contact\n",
      "3. View Contacts\n",
      "4. Exit\n"
     ]
    },
    {
     "name": "stdin",
     "output_type": "stream",
     "text": [
      "Enter your choice (1-4):  3\n"
     ]
    },
    {
     "name": "stdout",
     "output_type": "stream",
     "text": [
      "No contacts found. The contact book is empty.\n",
      "\n",
      "Contact Book Menu:\n",
      "1. Add Contact\n",
      "2. Delete Contact\n",
      "3. View Contacts\n",
      "4. Exit\n"
     ]
    },
    {
     "name": "stdin",
     "output_type": "stream",
     "text": [
      "Enter your choice (1-4):  1\n",
      "Enter name:  Mohamed Ehab\n",
      "Enter phone number:  334455\n"
     ]
    },
    {
     "name": "stdout",
     "output_type": "stream",
     "text": [
      "Contact Mohamed Ehab added successfully.\n",
      "\n",
      "Contact Book Menu:\n",
      "1. Add Contact\n",
      "2. Delete Contact\n",
      "3. View Contacts\n",
      "4. Exit\n"
     ]
    },
    {
     "name": "stdin",
     "output_type": "stream",
     "text": [
      "Enter your choice (1-4):  3\n"
     ]
    },
    {
     "name": "stdout",
     "output_type": "stream",
     "text": [
      "Contact List:\n",
      "Name: Mohamed Ehab, Phone Number: 334455\n",
      "\n",
      "Contact Book Menu:\n",
      "1. Add Contact\n",
      "2. Delete Contact\n",
      "3. View Contacts\n",
      "4. Exit\n"
     ]
    },
    {
     "name": "stdin",
     "output_type": "stream",
     "text": [
      "Enter your choice (1-4):  4\n"
     ]
    },
    {
     "name": "stdout",
     "output_type": "stream",
     "text": [
      "Exiting Contact Book.\n"
     ]
    }
   ],
   "source": [
    "while True:\n",
    "    print(\"\\nContact Book Menu:\")\n",
    "    print(\"1. Add Contact\")\n",
    "    print(\"2. Delete Contact\")\n",
    "    print(\"3. View Contacts\")\n",
    "    print(\"4. Exit\")\n",
    "\n",
    "    choice = input(\"Enter your choice (1-4): \")\n",
    "\n",
    "    if choice == \"1\":\n",
    "        name = input(\"Enter name: \")\n",
    "        phone_number = input(\"Enter phone number: \")\n",
    "        add_contact(name, phone_number)\n",
    "\n",
    "    elif choice == \"2\":\n",
    "        name = input(\"Enter name to delete: \")\n",
    "        delete_contact(name)\n",
    "\n",
    "    elif choice == \"3\":\n",
    "        view_contacts()\n",
    "\n",
    "    elif choice == \"4\":\n",
    "        print(\"Exiting Contact Book.\")\n",
    "        break\n",
    "\n",
    "    else:\n",
    "        print(\"Invalid choice. Please try again.\")"
   ]
  },
  {
   "cell_type": "code",
   "execution_count": null,
   "id": "ee9303b1-4cb9-4165-b879-643d6124f8e0",
   "metadata": {},
   "outputs": [],
   "source": []
  }
 ],
 "metadata": {
  "kernelspec": {
   "display_name": "Python 3 (ipykernel)",
   "language": "python",
   "name": "python3"
  },
  "language_info": {
   "codemirror_mode": {
    "name": "ipython",
    "version": 3
   },
   "file_extension": ".py",
   "mimetype": "text/x-python",
   "name": "python",
   "nbconvert_exporter": "python",
   "pygments_lexer": "ipython3",
   "version": "3.11.7"
  }
 },
 "nbformat": 4,
 "nbformat_minor": 5
}
